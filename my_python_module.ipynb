{
  "nbformat": 4,
  "nbformat_minor": 0,
  "metadata": {
    "colab": {
      "name": "my_python_module.ipynb",
      "provenance": [],
      "collapsed_sections": [],
      "authorship_tag": "ABX9TyM0K8EEb+dhhsN9jnJ0SPQA",
      "include_colab_link": true
    },
    "kernelspec": {
      "name": "python3",
      "display_name": "Python 3"
    }
  },
  "cells": [
    {
      "cell_type": "markdown",
      "metadata": {
        "id": "view-in-github",
        "colab_type": "text"
      },
      "source": [
        "<a href=\"https://colab.research.google.com/github/lfr4704/lambdata-dspt5/blob/master/my_python_module.ipynb\" target=\"_parent\"><img src=\"https://colab.research.google.com/assets/colab-badge.svg\" alt=\"Open In Colab\"/></a>"
      ]
    },
    {
      "cell_type": "code",
      "metadata": {
        "id": "TNUKcdpHEvRD",
        "colab_type": "code",
        "outputId": "37b474a1-73e3-4203-b220-1a561adf4587",
        "colab": {
          "base_uri": "https://localhost:8080/",
          "height": 122
        }
      },
      "source": [
        "!pip install -i https://test.pypi.org/simple/ lfr-lambdata-pt5"
      ],
      "execution_count": 1,
      "outputs": [
        {
          "output_type": "stream",
          "text": [
            "Looking in indexes: https://test.pypi.org/simple/\n",
            "Collecting lfr-lambdata-pt5\n",
            "  Downloading https://test-files.pythonhosted.org/packages/44/ee/98a25b6beea1d5bb2d5a9c71e4a2eb8e2ad1e433c7f37201bc4da7f9b129/lfr_lambdata_pt5-1.1-py3-none-any.whl\n",
            "Installing collected packages: lfr-lambdata-pt5\n",
            "Successfully installed lfr-lambdata-pt5-1.1\n"
          ],
          "name": "stdout"
        }
      ]
    },
    {
      "cell_type": "code",
      "metadata": {
        "id": "7Y-bxkYTFXcE",
        "colab_type": "code",
        "outputId": "6629eff2-da8a-4836-e425-b6c4196f61c9",
        "colab": {
          "base_uri": "https://localhost:8080/",
          "height": 34
        }
      },
      "source": [
        "from my_lambdata.my_mod import enlarge #import method from module \n",
        "\n",
        "x = 11\n",
        "print(enlarge(x))"
      ],
      "execution_count": 2,
      "outputs": [
        {
          "output_type": "stream",
          "text": [
            "1100\n"
          ],
          "name": "stdout"
        }
      ]
    },
    {
      "cell_type": "markdown",
      "metadata": {
        "id": "lD8RAvBdEh8U",
        "colab_type": "text"
      },
      "source": [
        "#Test State Abbreviation function"
      ]
    },
    {
      "cell_type": "code",
      "metadata": {
        "id": "WEJfE8zSEwde",
        "colab_type": "code",
        "colab": {
          "base_uri": "https://localhost:8080/",
          "height": 204
        },
        "outputId": "a3334b30-c06d-4a5a-9c6d-eb2760014799"
      },
      "source": [
        "import pandas as pd\n",
        "from my_lambdata.assignment import add_state_name # import method from module\n",
        "import numpy as np\n",
        "\n",
        "abbrev_df = pd.DataFrame({\"abbrev\": [\"CA\", \"CO\", \"CT\", \"WA\", \"TX\"]})\n",
        "\n",
        "abbrev_df2=add_state_name(abbrev_df)\n",
        "\n",
        "abbrev_df2.head()"
      ],
      "execution_count": 4,
      "outputs": [
        {
          "output_type": "execute_result",
          "data": {
            "text/html": [
              "<div>\n",
              "<style scoped>\n",
              "    .dataframe tbody tr th:only-of-type {\n",
              "        vertical-align: middle;\n",
              "    }\n",
              "\n",
              "    .dataframe tbody tr th {\n",
              "        vertical-align: top;\n",
              "    }\n",
              "\n",
              "    .dataframe thead th {\n",
              "        text-align: right;\n",
              "    }\n",
              "</style>\n",
              "<table border=\"1\" class=\"dataframe\">\n",
              "  <thead>\n",
              "    <tr style=\"text-align: right;\">\n",
              "      <th></th>\n",
              "      <th>abbrev</th>\n",
              "      <th>state_name</th>\n",
              "    </tr>\n",
              "  </thead>\n",
              "  <tbody>\n",
              "    <tr>\n",
              "      <th>0</th>\n",
              "      <td>CA</td>\n",
              "      <td>CALIFORNIA</td>\n",
              "    </tr>\n",
              "    <tr>\n",
              "      <th>1</th>\n",
              "      <td>CO</td>\n",
              "      <td>COLORADO</td>\n",
              "    </tr>\n",
              "    <tr>\n",
              "      <th>2</th>\n",
              "      <td>CT</td>\n",
              "      <td>CONNECTICUT</td>\n",
              "    </tr>\n",
              "    <tr>\n",
              "      <th>3</th>\n",
              "      <td>WA</td>\n",
              "      <td>WASHINGTON</td>\n",
              "    </tr>\n",
              "    <tr>\n",
              "      <th>4</th>\n",
              "      <td>TX</td>\n",
              "      <td>TEXAS</td>\n",
              "    </tr>\n",
              "  </tbody>\n",
              "</table>\n",
              "</div>"
            ],
            "text/plain": [
              "  abbrev   state_name\n",
              "0     CA   CALIFORNIA\n",
              "1     CO     COLORADO\n",
              "2     CT  CONNECTICUT\n",
              "3     WA   WASHINGTON\n",
              "4     TX        TEXAS"
            ]
          },
          "metadata": {
            "tags": []
          },
          "execution_count": 4
        }
      ]
    },
    {
      "cell_type": "markdown",
      "metadata": {
        "id": "bxe8KmbQEwxU",
        "colab_type": "text"
      },
      "source": [
        "#Test timestamp abbreviation function "
      ]
    },
    {
      "cell_type": "code",
      "metadata": {
        "id": "lsG3R-2EE6jI",
        "colab_type": "code",
        "colab": {
          "base_uri": "https://localhost:8080/",
          "height": 142
        },
        "outputId": "9c632360-2886-42a4-dec2-13add1024736"
      },
      "source": [
        "from my_lambdata.assignment import split_timestamp #import method from module\n",
        "\n",
        "df3 = pd.DataFrame({\"timestamp\":[\"2010-01-04\", \"2012-05-04\", \"2008-11-02\"]})\n",
        "\n",
        "df_timestamp_split = split_timestamp(df3)\n",
        "\n",
        "df_timestamp_split.head()"
      ],
      "execution_count": 10,
      "outputs": [
        {
          "output_type": "execute_result",
          "data": {
            "text/html": [
              "<div>\n",
              "<style scoped>\n",
              "    .dataframe tbody tr th:only-of-type {\n",
              "        vertical-align: middle;\n",
              "    }\n",
              "\n",
              "    .dataframe tbody tr th {\n",
              "        vertical-align: top;\n",
              "    }\n",
              "\n",
              "    .dataframe thead th {\n",
              "        text-align: right;\n",
              "    }\n",
              "</style>\n",
              "<table border=\"1\" class=\"dataframe\">\n",
              "  <thead>\n",
              "    <tr style=\"text-align: right;\">\n",
              "      <th></th>\n",
              "      <th>timestamp</th>\n",
              "      <th>year</th>\n",
              "      <th>month</th>\n",
              "      <th>day</th>\n",
              "    </tr>\n",
              "  </thead>\n",
              "  <tbody>\n",
              "    <tr>\n",
              "      <th>0</th>\n",
              "      <td>2010-01-04</td>\n",
              "      <td>2010</td>\n",
              "      <td>1</td>\n",
              "      <td>4</td>\n",
              "    </tr>\n",
              "    <tr>\n",
              "      <th>1</th>\n",
              "      <td>2012-05-04</td>\n",
              "      <td>2012</td>\n",
              "      <td>5</td>\n",
              "      <td>4</td>\n",
              "    </tr>\n",
              "    <tr>\n",
              "      <th>2</th>\n",
              "      <td>2008-11-02</td>\n",
              "      <td>2008</td>\n",
              "      <td>11</td>\n",
              "      <td>2</td>\n",
              "    </tr>\n",
              "  </tbody>\n",
              "</table>\n",
              "</div>"
            ],
            "text/plain": [
              "   timestamp  year  month  day\n",
              "0 2010-01-04  2010      1    4\n",
              "1 2012-05-04  2012      5    4\n",
              "2 2008-11-02  2008     11    2"
            ]
          },
          "metadata": {
            "tags": []
          },
          "execution_count": 10
        }
      ]
    }
  ]
}